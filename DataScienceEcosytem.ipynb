{
 "cells": [
  {
   "cell_type": "markdown",
   "id": "a647c616-330e-4efe-9f0e-7fb8d4757701",
   "metadata": {},
   "source": [
    "# Data Science Tools and Ecosytem"
   ]
  },
  {
   "cell_type": "markdown",
   "id": "e718c40a-e17a-4a2f-a4bc-e70b849d909d",
   "metadata": {},
   "source": [
    "In this notebook, Data Science Tools and Ecosytem are summarized."
   ]
  },
  {
   "cell_type": "markdown",
   "id": "9db3737c-eed1-4927-a84b-2e0381232f1e",
   "metadata": {
    "tags": []
   },
   "source": [
    "### Objectives:\n",
    "\n",
    "- Describe the components of a Data Scientist's toolkit and list various tool categories\n",
    "- List examples of open-source tools used in data science\n",
    "- Describe the relevant features of open-source tools\n",
    "- List examples of commercial and cloud-based data science tools"
   ]
  },
  {
   "cell_type": "markdown",
   "id": "045b8202-a781-4664-860c-cc648bfd1078",
   "metadata": {},
   "source": [
    "Some of the popular languages that Data Scientists use are:"
   ]
  },
  {
   "cell_type": "raw",
   "id": "f4874fb6-e7af-42fe-85de-e9534185898a",
   "metadata": {},
   "source": [
    "1. Python\n",
    "2. Java\n",
    "3. C++\n",
    "4. C"
   ]
  },
  {
   "cell_type": "markdown",
   "id": "32fe6812-6b09-41eb-8b30-0dfc0d3a6e67",
   "metadata": {},
   "source": [
    "Some of the commonly used libraries used by Data Scientists include:"
   ]
  },
  {
   "cell_type": "markdown",
   "id": "dc4bcf6e-5489-41a1-b6d0-b66c0723410c",
   "metadata": {},
   "source": [
    "1. Numpy\n",
    "2. Pandas\n",
    "3. PyTorch"
   ]
  },
  {
   "cell_type": "markdown",
   "id": "5c3c6deb-896a-453b-8f3c-b4b53aaad254",
   "metadata": {},
   "source": [
    "|Data Science Tools|\n",
    "|------------------|\n",
    "|Jupter|\n",
    "|Python|\n",
    "|RStudio|"
   ]
  },
  {
   "cell_type": "markdown",
   "id": "2ba30d25-954a-45f7-9b6d-6c7d5ba75a95",
   "metadata": {},
   "source": [
    "### Below are a few examples of evaluating arithemtic expressions in Python\n",
    "- Addition: 5+5\n",
    "- Subtraction: 8-4\n",
    "- Multiplication: 3*3\n",
    "- Division: 9/3"
   ]
  },
  {
   "cell_type": "code",
   "execution_count": 1,
   "id": "0e1969a9-7dad-4521-8042-d8b59c100388",
   "metadata": {
    "tags": []
   },
   "outputs": [
    {
     "data": {
      "text/plain": [
       "17"
      ]
     },
     "execution_count": 1,
     "metadata": {},
     "output_type": "execute_result"
    }
   ],
   "source": [
    "# This a simple arithmetic expression to mutiply then add integers\n",
    "\n",
    "(3*4)+5"
   ]
  },
  {
   "cell_type": "code",
   "execution_count": 2,
   "id": "71ac8602-8ea5-49eb-80ac-310da3d03250",
   "metadata": {
    "tags": []
   },
   "outputs": [
    {
     "name": "stdout",
     "output_type": "stream",
     "text": [
      "3.3333333333333335\n"
     ]
    }
   ],
   "source": [
    "# This will convert 200 minutes to hours by deiving by 60\n",
    "minutes=200\n",
    "hours= minutes/60\n",
    "print(hours)"
   ]
  },
  {
   "cell_type": "markdown",
   "id": "96d43da0-ecc7-4e5f-8784-b6e5e5c0dac0",
   "metadata": {
    "tags": []
   },
   "source": [
    "## Author\n",
    "Junmei Hall"
   ]
  },
  {
   "cell_type": "code",
   "execution_count": null,
   "id": "20d706c9-903a-4bf3-98d0-bcaa7795a685",
   "metadata": {},
   "outputs": [],
   "source": []
  }
 ],
 "metadata": {
  "kernelspec": {
   "display_name": "Python",
   "language": "python",
   "name": "conda-env-python-py"
  },
  "language_info": {
   "codemirror_mode": {
    "name": "ipython",
    "version": 3
   },
   "file_extension": ".py",
   "mimetype": "text/x-python",
   "name": "python",
   "nbconvert_exporter": "python",
   "pygments_lexer": "ipython3",
   "version": "3.7.12"
  }
 },
 "nbformat": 4,
 "nbformat_minor": 5
}
